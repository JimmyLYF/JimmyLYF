{
 "cells": [
  {
   "cell_type": "code",
   "execution_count": 1,
   "metadata": {},
   "outputs": [
    {
     "name": "stderr",
     "output_type": "stream",
     "text": [
      "[nltk_data] Downloading package stopwords to\n",
      "[nltk_data]     C:\\Users\\SCYS057\\AppData\\Roaming\\nltk_data...\n",
      "[nltk_data]   Package stopwords is already up-to-date!\n",
      "[nltk_data] Downloading package punkt to\n",
      "[nltk_data]     C:\\Users\\SCYS057\\AppData\\Roaming\\nltk_data...\n",
      "[nltk_data]   Package punkt is already up-to-date!\n",
      "[nltk_data] Downloading package wordnet to\n",
      "[nltk_data]     C:\\Users\\SCYS057\\AppData\\Roaming\\nltk_data...\n",
      "[nltk_data]   Package wordnet is already up-to-date!\n"
     ]
    }
   ],
   "source": [
    "import re\n",
    "from datetime import datetime\n",
    "import warnings\n",
    "warnings.filterwarnings(\"ignore\",category=DeprecationWarning)\n",
    "from pandas.core.common import SettingWithCopyWarning\n",
    "warnings.simplefilter(action=\"ignore\", category=SettingWithCopyWarning)\n",
    "import pandas as pd\n",
    "import numpy as np\n",
    "import seaborn as sns\n",
    "import nltk\n",
    "from nltk.corpus import stopwords\n",
    "nltk.download(\"stopwords\")\n",
    "nltk.download('punkt')\n",
    "nltk.download('wordnet')\n",
    "import string\n",
    "from nltk.stem import WordNetLemmatizer \n",
    "from sklearn.feature_extraction.text import TfidfVectorizer\n",
    "\n",
    "from xgboost import XGBClassifier\n",
    "from sklearn.model_selection import train_test_split\n",
    "from sklearn.metrics import accuracy_score\n",
    "from sklearn.metrics import classification_report,confusion_matrix\n",
    "\n",
    "from sklearn.model_selection import cross_val_score, KFold"
   ]
  },
  {
   "cell_type": "code",
   "execution_count": 2,
   "metadata": {},
   "outputs": [],
   "source": [
    "import pickle\n",
    "import json"
   ]
  },
  {
   "cell_type": "code",
   "execution_count": 73,
   "metadata": {},
   "outputs": [],
   "source": [
    "stop_words =  pd.read_excel('D:\\AIA\\POS\\MAIA\\API_files\\stopwords.xlsx')\n",
    "stop_words = stop_words['stopword'].to_list()\n",
    "\n",
    "sw_more = nltk.corpus.stopwords.words('english')\n",
    "stop_words.extend(sw_more)"
   ]
  },
  {
   "cell_type": "code",
   "execution_count": 74,
   "metadata": {},
   "outputs": [],
   "source": [
    "with open('stop_words.ob', 'wb') as fp:\n",
    "    pickle.dump(stop_words, fp)"
   ]
  },
  {
   "cell_type": "code",
   "execution_count": 17,
   "metadata": {},
   "outputs": [
    {
     "name": "stdout",
     "output_type": "stream",
     "text": [
      "Wall time: 236 ms\n"
     ]
    }
   ],
   "source": [
    "%%time \n",
    "raw_data = pd.read_excel('D:\\\\AIA\\\\POS\\\\MAIA\\\\LiveChat Conversation Data\\\\User Verified 4 - SessionSplitLogic\\\\train_set_message_only.xlsx')"
   ]
  },
  {
   "cell_type": "code",
   "execution_count": 18,
   "metadata": {},
   "outputs": [
    {
     "data": {
      "text/html": [
       "<div>\n",
       "<style scoped>\n",
       "    .dataframe tbody tr th:only-of-type {\n",
       "        vertical-align: middle;\n",
       "    }\n",
       "\n",
       "    .dataframe tbody tr th {\n",
       "        vertical-align: top;\n",
       "    }\n",
       "\n",
       "    .dataframe thead th {\n",
       "        text-align: right;\n",
       "    }\n",
       "</style>\n",
       "<table border=\"1\" class=\"dataframe\">\n",
       "  <thead>\n",
       "    <tr style=\"text-align: right;\">\n",
       "      <th></th>\n",
       "      <th>Date</th>\n",
       "      <th>Text</th>\n",
       "      <th>Session</th>\n",
       "      <th>Abuse</th>\n",
       "    </tr>\n",
       "  </thead>\n",
       "  <tbody>\n",
       "    <tr>\n",
       "      <th>0</th>\n",
       "      <td>2021-09-10 15:35:34.180</td>\n",
       "      <td>new business</td>\n",
       "      <td>72f95523-6ae6-43e5-9bdc-097b4f47d8f1-4</td>\n",
       "      <td>0</td>\n",
       "    </tr>\n",
       "    <tr>\n",
       "      <th>1</th>\n",
       "      <td>2021-09-10 15:37:36.401</td>\n",
       "      <td>checking for m2b transfer sum assured</td>\n",
       "      <td>72f95523-6ae6-43e5-9bdc-097b4f47d8f1-4</td>\n",
       "      <td>0</td>\n",
       "    </tr>\n",
       "    <tr>\n",
       "      <th>2</th>\n",
       "      <td>2021-09-06 10:20:27.905</td>\n",
       "      <td>check for shield downgrade</td>\n",
       "      <td>72f95523-6ae6-43e5-9bdc-097b4f47d8f1-2</td>\n",
       "      <td>0</td>\n",
       "    </tr>\n",
       "    <tr>\n",
       "      <th>3</th>\n",
       "      <td>2021-09-22 12:21:36.570</td>\n",
       "      <td>pos</td>\n",
       "      <td>72f95523-6ae6-43e5-9bdc-097b4f47d8f1-14</td>\n",
       "      <td>0</td>\n",
       "    </tr>\n",
       "    <tr>\n",
       "      <th>4</th>\n",
       "      <td>2021-09-22 12:21:52.831</td>\n",
       "      <td>change to monthly how much</td>\n",
       "      <td>72f95523-6ae6-43e5-9bdc-097b4f47d8f1-14</td>\n",
       "      <td>0</td>\n",
       "    </tr>\n",
       "    <tr>\n",
       "      <th>...</th>\n",
       "      <td>...</td>\n",
       "      <td>...</td>\n",
       "      <td>...</td>\n",
       "      <td>...</td>\n",
       "    </tr>\n",
       "    <tr>\n",
       "      <th>2913</th>\n",
       "      <td>2021-09-24 16:11:36.863</td>\n",
       "      <td>hi, i need help to unlock my client -my aia sg</td>\n",
       "      <td>00aaee76-12e0-4096-a18c-4f312606d168-1</td>\n",
       "      <td>0</td>\n",
       "    </tr>\n",
       "    <tr>\n",
       "      <th>2914</th>\n",
       "      <td>2021-09-24 16:12:08.640</td>\n",
       "      <td>no</td>\n",
       "      <td>00aaee76-12e0-4096-a18c-4f312606d168-1</td>\n",
       "      <td>0</td>\n",
       "    </tr>\n",
       "    <tr>\n",
       "      <th>2915</th>\n",
       "      <td>2021-09-08 15:06:08.988</td>\n",
       "      <td>cpf</td>\n",
       "      <td>006da37c-aee6-4119-ab25-1024e60d1e97-2</td>\n",
       "      <td>1</td>\n",
       "    </tr>\n",
       "    <tr>\n",
       "      <th>2916</th>\n",
       "      <td>2021-09-19 18:04:21.430</td>\n",
       "      <td>covid</td>\n",
       "      <td>0031d6dc-3a14-4d50-b2b7-828679011b6f-8</td>\n",
       "      <td>1</td>\n",
       "    </tr>\n",
       "    <tr>\n",
       "      <th>2917</th>\n",
       "      <td>2021-09-01 12:31:36.306</td>\n",
       "      <td>no</td>\n",
       "      <td>000c9fdf-65e9-4828-a8a7-32621d970e54-1</td>\n",
       "      <td>1</td>\n",
       "    </tr>\n",
       "  </tbody>\n",
       "</table>\n",
       "<p>2918 rows × 4 columns</p>\n",
       "</div>"
      ],
      "text/plain": [
       "                        Date                                            Text  \\\n",
       "0    2021-09-10 15:35:34.180                                    new business   \n",
       "1    2021-09-10 15:37:36.401           checking for m2b transfer sum assured   \n",
       "2    2021-09-06 10:20:27.905                      check for shield downgrade   \n",
       "3    2021-09-22 12:21:36.570                                             pos   \n",
       "4    2021-09-22 12:21:52.831                      change to monthly how much   \n",
       "...                      ...                                             ...   \n",
       "2913 2021-09-24 16:11:36.863  hi, i need help to unlock my client -my aia sg   \n",
       "2914 2021-09-24 16:12:08.640                                              no   \n",
       "2915 2021-09-08 15:06:08.988                                             cpf   \n",
       "2916 2021-09-19 18:04:21.430                                           covid   \n",
       "2917 2021-09-01 12:31:36.306                                              no   \n",
       "\n",
       "                                      Session  Abuse  \n",
       "0      72f95523-6ae6-43e5-9bdc-097b4f47d8f1-4      0  \n",
       "1      72f95523-6ae6-43e5-9bdc-097b4f47d8f1-4      0  \n",
       "2      72f95523-6ae6-43e5-9bdc-097b4f47d8f1-2      0  \n",
       "3     72f95523-6ae6-43e5-9bdc-097b4f47d8f1-14      0  \n",
       "4     72f95523-6ae6-43e5-9bdc-097b4f47d8f1-14      0  \n",
       "...                                       ...    ...  \n",
       "2913   00aaee76-12e0-4096-a18c-4f312606d168-1      0  \n",
       "2914   00aaee76-12e0-4096-a18c-4f312606d168-1      0  \n",
       "2915   006da37c-aee6-4119-ab25-1024e60d1e97-2      1  \n",
       "2916   0031d6dc-3a14-4d50-b2b7-828679011b6f-8      1  \n",
       "2917   000c9fdf-65e9-4828-a8a7-32621d970e54-1      1  \n",
       "\n",
       "[2918 rows x 4 columns]"
      ]
     },
     "execution_count": 18,
     "metadata": {},
     "output_type": "execute_result"
    }
   ],
   "source": [
    "raw_data"
   ]
  },
  {
   "cell_type": "code",
   "execution_count": 49,
   "metadata": {},
   "outputs": [],
   "source": [
    "# Convert data to json format to mimis jason input\n",
    "js = raw_data.to_json(orient = 'records', date_format='iso')\n",
    "# jdata = json.loads(js)"
   ]
  },
  {
   "cell_type": "code",
   "execution_count": 25,
   "metadata": {},
   "outputs": [],
   "source": [
    "def text_cleaning(txt):\n",
    "    \n",
    "    text = txt.lower()\n",
    "    \n",
    "    text = re.sub(r'[a-z]{1}[0-9]{9}', '', text)\n",
    "    text = re.sub(r'[a-z]{1}[0-9]{7}[a-z]{1}', 'UniNRIC', text)\n",
    "    text = re.sub(r'[0-9]{8}', '', text)\n",
    "    \n",
    "    text = \" \".join([word for word in nltk.word_tokenize(text) if word not in stop_words])\n",
    "    text = \" \".join(word.strip(string.punctuation) for word in text.split())\n",
    "\n",
    "    emoji_pattern = re.compile(\"[\"\n",
    "            u\"\\U0001F600-\\U0001F64F\"  # emoticons\n",
    "            u\"\\U0001F300-\\U0001F5FF\"  # symbols & pictographs\n",
    "            u\"\\U0001F680-\\U0001F6FF\"  # transport & map symbols\n",
    "            u\"\\U0001F1E0-\\U0001F1FF\"  # flags (iOS)\n",
    "                               \"]+\", flags=re.UNICODE)\n",
    "    text = emoji_pattern.sub(r'', text) # Remove Emoji\n",
    "\n",
    "    lemmatizer = WordNetLemmatizer()\n",
    "    text = ' '.join([lemmatizer.lemmatize(word) for word in nltk.word_tokenize(text)])\n",
    "    \n",
    "    return text"
   ]
  },
  {
   "cell_type": "code",
   "execution_count": 200,
   "metadata": {},
   "outputs": [],
   "source": [
    "# raw_data['text_clean'] = raw_data['Text'].apply(lambda x:text_cleaning(x))"
   ]
  },
  {
   "cell_type": "code",
   "execution_count": 53,
   "metadata": {},
   "outputs": [],
   "source": [
    "def data_preprocessing(js):\n",
    "\n",
    "    jdata = json.loads(js)\n",
    "    df = pd.DataFrame(jdata)\n",
    "    df['text_clean'] = df['Text'].apply(lambda x:text_cleaning(x))\n",
    "\n",
    "    df = df.groupby(['Session', 'Abuse'])['text_clean'].apply(lambda x: ','.join(x)).reset_index()\n",
    "    \n",
    "    df['WordsAsked'] = df['text_clean'].str.split().str.len()\n",
    "\n",
    "    \n",
    "    return df[['Session', 'Abuse', 'WordsAsked']]"
   ]
  },
  {
   "cell_type": "code",
   "execution_count": 286,
   "metadata": {},
   "outputs": [],
   "source": [
    "# seed_num = 123\n",
    "\n",
    "# tfidf = TfidfVectorizer(min_df = 0.002,  ngram_range=(1, 2), use_idf = True, sublinear_tf = True, max_df = 0.8)\n",
    "\n",
    "\n",
    "# features = tfidf.fit_transform(df.text_clean).toarray()\n",
    "# labels = df.Abuse"
   ]
  },
  {
   "cell_type": "code",
   "execution_count": 54,
   "metadata": {},
   "outputs": [
    {
     "name": "stdout",
     "output_type": "stream",
     "text": [
      "Wall time: 1.1 s\n"
     ]
    }
   ],
   "source": [
    "%%time\n",
    "df = data_preprocessing(js)"
   ]
  },
  {
   "cell_type": "code",
   "execution_count": 65,
   "metadata": {},
   "outputs": [],
   "source": [
    "X, Y = df[df.columns.difference(['Session', 'Abuse'])], df[['Abuse']]"
   ]
  },
  {
   "cell_type": "code",
   "execution_count": 66,
   "metadata": {},
   "outputs": [],
   "source": [
    "seed = 2\n",
    "test_size = 0.2\n",
    "X_train, X_test, y_train, y_test = train_test_split(X, Y, test_size=test_size, random_state=seed)"
   ]
  },
  {
   "cell_type": "code",
   "execution_count": 67,
   "metadata": {
    "scrolled": true
   },
   "outputs": [
    {
     "name": "stderr",
     "output_type": "stream",
     "text": [
      "C:\\ProgramData\\Anaconda3\\lib\\site-packages\\xgboost\\sklearn.py:1146: UserWarning: The use of label encoder in XGBClassifier is deprecated and will be removed in a future release. To remove this warning, do the following: 1) Pass option use_label_encoder=False when constructing XGBClassifier object; and 2) Encode your labels (y) as integers starting with 0, i.e. 0, 1, 2, ..., [num_class - 1].\n",
      "  warnings.warn(label_encoder_deprecation_msg, UserWarning)\n",
      "C:\\ProgramData\\Anaconda3\\lib\\site-packages\\sklearn\\preprocessing\\label.py:219: DataConversionWarning: A column-vector y was passed when a 1d array was expected. Please change the shape of y to (n_samples, ), for example using ravel().\n",
      "  y = column_or_1d(y, warn=True)\n",
      "C:\\ProgramData\\Anaconda3\\lib\\site-packages\\sklearn\\preprocessing\\label.py:252: DataConversionWarning: A column-vector y was passed when a 1d array was expected. Please change the shape of y to (n_samples, ), for example using ravel().\n",
      "  y = column_or_1d(y, warn=True)\n"
     ]
    },
    {
     "data": {
      "text/plain": [
       "XGBClassifier(base_score=0.5, booster='gbtree', colsample_bylevel=1,\n",
       "       colsample_bynode=1, colsample_bytree=1, eval_metric='logloss',\n",
       "       gamma=0, gpu_id=-1, importance_type='gain',\n",
       "       interaction_constraints='', learning_rate=0.300000012,\n",
       "       max_delta_step=0, max_depth=6, min_child_weight=1, missing=nan,\n",
       "       monotone_constraints='()', n_estimators=100, n_jobs=8,\n",
       "       num_parallel_tree=1, objective='binary:logistic', random_state=128,\n",
       "       reg_alpha=0, reg_lambda=1, scale_pos_weight=1, subsample=1,\n",
       "       tree_method='exact', use_label_encoder=True, validate_parameters=1,\n",
       "       verbosity=None)"
      ]
     },
     "execution_count": 67,
     "metadata": {},
     "output_type": "execute_result"
    }
   ],
   "source": [
    "model = XGBClassifier(eval_metric='logloss', random_state=128)\n",
    "model.fit(X_train, y_train)"
   ]
  },
  {
   "cell_type": "code",
   "execution_count": 68,
   "metadata": {},
   "outputs": [],
   "source": [
    "y_pred = model.predict(X_test)\n",
    "# predictions = [round(value) for value in y_pred]"
   ]
  },
  {
   "cell_type": "code",
   "execution_count": 216,
   "metadata": {},
   "outputs": [],
   "source": [
    "# merged_df = pd.concat([X_test, y_test, pd.DataFrame(predictions)])"
   ]
  },
  {
   "cell_type": "code",
   "execution_count": 69,
   "metadata": {},
   "outputs": [
    {
     "name": "stdout",
     "output_type": "stream",
     "text": [
      "Accuracy: 90.28%\n"
     ]
    }
   ],
   "source": [
    "# evaluate predictions\n",
    "accuracy = accuracy_score(y_test, y_pred)\n",
    "print(\"Accuracy: %.2f%%\" % (accuracy * 100.0))"
   ]
  },
  {
   "cell_type": "code",
   "execution_count": 70,
   "metadata": {},
   "outputs": [
    {
     "data": {
      "text/plain": [
       "array([[ 89,  13],\n",
       "       [ 15, 171]], dtype=int64)"
      ]
     },
     "execution_count": 70,
     "metadata": {},
     "output_type": "execute_result"
    }
   ],
   "source": [
    "confusion_matrix(y_test,y_pred)\n",
    "# true positive: 80"
   ]
  },
  {
   "cell_type": "code",
   "execution_count": 71,
   "metadata": {},
   "outputs": [
    {
     "data": {
      "text/plain": [
       "<matplotlib.axes._subplots.AxesSubplot at 0x27dc213ac88>"
      ]
     },
     "execution_count": 71,
     "metadata": {},
     "output_type": "execute_result"
    },
    {
     "data": {
      "image/png": "[encoded data removed]",
      "text/plain": [
       "<Figure size 432x288 with 2 Axes>"
      ]
     },
     "metadata": {
      "needs_background": "light"
     },
     "output_type": "display_data"
    }
   ],
   "source": [
    "sns.heatmap(confusion_matrix(y_test,y_pred), annot=True)"
   ]
  },
  {
   "cell_type": "code",
   "execution_count": 72,
   "metadata": {},
   "outputs": [
    {
     "name": "stdout",
     "output_type": "stream",
     "text": [
      "              precision    recall  f1-score   support\n",
      "\n",
      "           0       0.86      0.87      0.86       102\n",
      "           1       0.93      0.92      0.92       186\n",
      "\n",
      "   micro avg       0.90      0.90      0.90       288\n",
      "   macro avg       0.89      0.90      0.89       288\n",
      "weighted avg       0.90      0.90      0.90       288\n",
      "\n"
     ]
    }
   ],
   "source": [
    "print(classification_report(y_test,y_pred))\n",
    "# precision = TP / (TP+FP)\n",
    "# recall = TP / (TP+FN) = true positive rate\n"
   ]
  },
  {
   "cell_type": "code",
   "execution_count": 221,
   "metadata": {},
   "outputs": [],
   "source": [
    "# df_test = df.loc[y_test.index]\n",
    "# df_test['abuse_predicted'] = y_pred"
   ]
  },
  {
   "cell_type": "code",
   "execution_count": 296,
   "metadata": {},
   "outputs": [],
   "source": [
    "# df_test.to_csv('df_test.csv', index = False)"
   ]
  },
  {
   "cell_type": "code",
   "execution_count": 298,
   "metadata": {},
   "outputs": [
    {
     "data": {
      "text/html": [
       "<div>\n",
       "<style scoped>\n",
       "    .dataframe tbody tr th:only-of-type {\n",
       "        vertical-align: middle;\n",
       "    }\n",
       "\n",
       "    .dataframe tbody tr th {\n",
       "        vertical-align: top;\n",
       "    }\n",
       "\n",
       "    .dataframe thead th {\n",
       "        text-align: right;\n",
       "    }\n",
       "</style>\n",
       "<table border=\"1\" class=\"dataframe\">\n",
       "  <thead>\n",
       "    <tr style=\"text-align: right;\">\n",
       "      <th></th>\n",
       "      <th>Date</th>\n",
       "      <th>Text</th>\n",
       "      <th>Session</th>\n",
       "      <th>Abuse</th>\n",
       "      <th>text_clean</th>\n",
       "    </tr>\n",
       "  </thead>\n",
       "  <tbody>\n",
       "    <tr>\n",
       "      <th>1854</th>\n",
       "      <td>2021-09-28 12:44:30.589</td>\n",
       "      <td>nd stay safe@</td>\n",
       "      <td>2cb34a52-c9cb-4cc2-a7dc-e237f8ed53d6-9</td>\n",
       "      <td>1</td>\n",
       "      <td>nd stay safe</td>\n",
       "    </tr>\n",
       "    <tr>\n",
       "      <th>1855</th>\n",
       "      <td>2021-09-28 12:44:30.589</td>\n",
       "      <td>nd stay safe@</td>\n",
       "      <td>2cb34a52-c9cb-4cc2-a7dc-e237f8ed53d6-9</td>\n",
       "      <td>1</td>\n",
       "      <td>nd stay safe</td>\n",
       "    </tr>\n",
       "    <tr>\n",
       "      <th>1856</th>\n",
       "      <td>2021-09-28 12:44:33.083</td>\n",
       "      <td>!</td>\n",
       "      <td>2cb34a52-c9cb-4cc2-a7dc-e237f8ed53d6-9</td>\n",
       "      <td>1</td>\n",
       "      <td></td>\n",
       "    </tr>\n",
       "    <tr>\n",
       "      <th>1857</th>\n",
       "      <td>2021-09-28 12:44:33.083</td>\n",
       "      <td>!</td>\n",
       "      <td>2cb34a52-c9cb-4cc2-a7dc-e237f8ed53d6-9</td>\n",
       "      <td>1</td>\n",
       "      <td></td>\n",
       "    </tr>\n",
       "  </tbody>\n",
       "</table>\n",
       "</div>"
      ],
      "text/plain": [
       "                        Date           Text  \\\n",
       "1854 2021-09-28 12:44:30.589  nd stay safe@   \n",
       "1855 2021-09-28 12:44:30.589  nd stay safe@   \n",
       "1856 2021-09-28 12:44:33.083              !   \n",
       "1857 2021-09-28 12:44:33.083              !   \n",
       "\n",
       "                                     Session  Abuse    text_clean  \n",
       "1854  2cb34a52-c9cb-4cc2-a7dc-e237f8ed53d6-9      1  nd stay safe  \n",
       "1855  2cb34a52-c9cb-4cc2-a7dc-e237f8ed53d6-9      1  nd stay safe  \n",
       "1856  2cb34a52-c9cb-4cc2-a7dc-e237f8ed53d6-9      1                \n",
       "1857  2cb34a52-c9cb-4cc2-a7dc-e237f8ed53d6-9      1                "
      ]
     },
     "execution_count": 298,
     "metadata": {},
     "output_type": "execute_result"
    }
   ],
   "source": [
    "# raw_data[raw_data['Session'] == '2cb34a52-c9cb-4cc2-a7dc-e237f8ed53d6-9']"
   ]
  },
  {
   "cell_type": "code",
   "execution_count": 239,
   "metadata": {},
   "outputs": [],
   "source": [
    "filename = 'flask_abuse_detection.sav'\n",
    "pickle.dump(model, open(filename, 'wb'))"
   ]
  }
 ],
 "metadata": {
  "kernelspec": {
   "display_name": "Python 3",
   "language": "python",
   "name": "python3"
  },
  "language_info": {
   "codemirror_mode": {
    "name": "ipython",
    "version": 3
   },
   "file_extension": ".py",
   "mimetype": "text/x-python",
   "name": "python",
   "nbconvert_exporter": "python",
   "pygments_lexer": "ipython3",
   "version": "3.8.5"
  }
 },
 "nbformat": 4,
 "nbformat_minor": 2
}
